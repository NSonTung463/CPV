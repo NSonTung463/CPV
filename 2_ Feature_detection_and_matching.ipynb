{
 "cells": [
  {
   "cell_type": "code",
   "execution_count": 1,
   "metadata": {},
   "outputs": [],
   "source": [
    "import cv2  as cv\n",
    "import matplotlib.pyplot as plt\n",
    "import numpy as np\n",
    "from ipywidgets import interact\n",
    "from PIL import Image\n",
    "import cv2"
   ]
  },
  {
   "attachments": {},
   "cell_type": "markdown",
   "metadata": {},
   "source": []
  },
  {
   "cell_type": "code",
   "execution_count": 2,
   "metadata": {},
   "outputs": [
    {
     "data": {
      "application/vnd.jupyter.widget-view+json": {
       "model_id": "65177ca1208f46b39569d2788cc991e6",
       "version_major": 2,
       "version_minor": 0
      },
      "text/plain": [
       "interactive(children=(IntSlider(value=1, description='blockSize', max=20), IntSlider(value=1, description='ksi…"
      ]
     },
     "metadata": {},
     "output_type": "display_data"
    }
   ],
   "source": [
    "filename = 'sudoku.jpg'\n",
    "\n",
    "@interact(blockSize =(0, 20,1), ksize =(1, 31,2), k=(0,0.5,0.001))\n",
    "def g(blockSize=1 , ksize=1 , k=0):\n",
    "    img_source = cv.cvtColor(cv.imread(filename), cv2.COLOR_BGR2RGB)\n",
    "    img = img_source.copy()\n",
    "    gray = cv.cvtColor(img, cv.COLOR_BGR2GRAY)\n",
    "    gray = np.float32(gray)\n",
    "    dst = cv.cornerHarris(gray, blockSize ,ksize, k=k)\n",
    "    dst = cv.dilate(dst, None)\n",
    "    img[dst > 0.01 * dst.max()] = [255, 0, 0]\n",
    "    \n",
    "    plt.figure(figsize=(15,10))\n",
    "    plt.subplot(121),plt.imshow(img_source,cmap = 'gray')\n",
    "    plt.title('Original Image'), plt.axis('off')\n",
    "    plt.subplot(122),plt.imshow(img,cmap = 'gray')\n",
    "    plt.title('Detect'), plt.axis('off')\n"
   ]
  },
  {
   "cell_type": "code",
   "execution_count": 3,
   "metadata": {},
   "outputs": [
    {
     "data": {
      "application/vnd.jupyter.widget-view+json": {
       "model_id": "6fecb5bd57464e5ba14f310e06737838",
       "version_major": 2,
       "version_minor": 0
      },
      "text/plain": [
       "interactive(children=(IntSlider(value=9, description='orientations_num', max=10), IntSlider(value=16, descript…"
      ]
     },
     "metadata": {},
     "output_type": "display_data"
    }
   ],
   "source": [
    "from skimage import feature\n",
    "from skimage import exposure\n",
    "filename = 'cuaso.jpg'\n",
    "\n",
    "@interact(orientations_num =(0, 10,1), pixels_per_cell_num =(0,52,4), bl= (0,52,4))\n",
    "def g(orientations_num=9 , pixels_per_cell_num=16, bl = 2):\n",
    "    img = cv.cvtColor(cv.imread(filename), cv2.COLOR_BGR2RGB)\n",
    "    if len(img.shape) !=2:\n",
    "        img = cv.cvtColor(img, cv.COLOR_BGR2GRAY)\n",
    "\n",
    "    (H, hogImage) = feature.hog(img, orientations=orientations_num, pixels_per_cell=(pixels_per_cell_num, pixels_per_cell_num),\n",
    "                                    cells_per_block=(bl, bl), \n",
    "                                    visualize=True)\n",
    "    print(hogImage.max())\n",
    "    print(hogImage.min())\n",
    "    \n",
    "    hogImage =  exposure.rescale_intensity(hogImage, in_range=(0,5))\n",
    "    \n",
    "    print(hogImage.max())\n",
    "    print(hogImage.min())\n",
    "    hogImage = hogImage.astype(\"uint8\")\n",
    "    plt.figure(figsize=(15,10))\n",
    "    plt.subplot(121),plt.imshow(img,cmap = 'gray')\n",
    "    plt.title('Original Image'), plt.axis('off')\n",
    "    plt.subplot(122),plt.imshow(hogImage,cmap = 'gray')\n",
    "    plt.title('hogImage'), plt.axis('off')"
   ]
  },
  {
   "cell_type": "code",
   "execution_count": 4,
   "metadata": {},
   "outputs": [
    {
     "data": {
      "application/vnd.jupyter.widget-view+json": {
       "model_id": "f266653ce4d44199bca71c705039c5c9",
       "version_major": 2,
       "version_minor": 0
      },
      "text/plain": [
       "interactive(children=(IntSlider(value=0, description='threshold1', max=500, step=5), IntSlider(value=0, descri…"
      ]
     },
     "metadata": {},
     "output_type": "display_data"
    }
   ],
   "source": [
    "@interact(threshold1 =(0, 500,5), threshold2 =(0, 600,5), apertureSize=(0, 16,1))\n",
    "def g(threshold1=0 , threshold2=0 , apertureSize=3):\n",
    "    img = cv.cvtColor(cv.imread(filename), cv2.COLOR_BGR2RGB)\n",
    "    assert img is not None, \"file could not be read, check with os.path.exists()\"\n",
    "    img = cv.GaussianBlur(img,(5,5),0)\n",
    "    edges = cv.Canny(img,threshold1,threshold2,apertureSize=apertureSize)\n",
    "    plt.figure(figsize=(15,10))\n",
    "    plt.subplot(121),plt.imshow(img,cmap = 'gray')\n",
    "    plt.title('Original Image'), plt.axis('off')\n",
    "    plt.subplot(122),plt.imshow(edges,cmap = 'gray')\n",
    "    plt.title('Canny'), plt.axis('off')"
   ]
  },
  {
   "cell_type": "code",
   "execution_count": 8,
   "metadata": {},
   "outputs": [
    {
     "data": {
      "application/vnd.jupyter.widget-view+json": {
       "model_id": "0bdabc13747241bb891239398c3e4968",
       "version_major": 2,
       "version_minor": 0
      },
      "text/plain": [
       "interactive(children=(IntSlider(value=100, description='threshold1', max=500, step=5), IntSlider(value=190, de…"
      ]
     },
     "metadata": {},
     "output_type": "display_data"
    }
   ],
   "source": [
    "filename = 'cuaso.jpg'\n",
    "@interact(threshold1 =(0, 500,5), threshold2 =(0, 500,5), apertureSize=(1, 16,2),\n",
    "        rho = (1, 50,1), theta = (0, 180,15),hreshold=(0, 500,20))\n",
    "def g(threshold1=100 , threshold2=190 , apertureSize=3,rho = 1, theta = 45,threshold=200):\n",
    "    img = cv.cvtColor(cv.imread(filename), cv2.COLOR_BGR2RGB)\n",
    "    gray = cv2.cvtColor(img, cv2.COLOR_BGR2GRAY)\n",
    "    \n",
    "    edges = cv2.Canny(gray, threshold1, threshold2, apertureSize=apertureSize)\n",
    "\n",
    "    # This returns an array of r and theta values\n",
    "    lines = cv2.HoughLines(edges, rho=rho ,theta =  (np.pi)*theta/180, threshold=threshold)\n",
    "    for r_theta in lines:\n",
    "        arr = np.array(r_theta[0], dtype=np.float64)\n",
    "        r, theta = arr\n",
    "        a = np.cos(theta)\n",
    "        b = np.sin(theta)\n",
    "        x0 = a*r\n",
    "        y0 = b*r\n",
    "        x1 = int(x0 + 1000*(-b))\n",
    "        y1 = int(y0 + 1000*(a))\n",
    "        x2 = int(x0 - 1000*(-b))\n",
    "        y2 = int(y0 - 1000*(a))\n",
    "        cv2.line(img, (x1, y1), (x2, y2), (0, 0, 255), 2)\n",
    "        cv2.drawMarker(img, (x1, y1), (0, 0, 255), cv2.MARKER_TILTED_CROSS, markerSize=10, thickness=1)\n",
    "    print(lines.shape[0])\n",
    "    plt.figure(figsize=(15,10))\n",
    "    plt.subplot(121),plt.imshow(img,cmap = 'gray')\n",
    "    plt.title('Original Image'), plt.axis('off')\n",
    "    plt.subplot(122),plt.imshow(edges,cmap = 'gray')\n",
    "    plt.title('HoughLines'), plt.axis('off')"
   ]
  },
  {
   "cell_type": "code",
   "execution_count": 9,
   "metadata": {},
   "outputs": [
    {
     "data": {
      "application/vnd.jupyter.widget-view+json": {
       "model_id": "021f0f1378754a93b034323f219f1aaa",
       "version_major": 2,
       "version_minor": 0
      },
      "text/plain": [
       "interactive(children=(IntSlider(value=100, description='threshold1', max=500, step=5), IntSlider(value=390, de…"
      ]
     },
     "metadata": {},
     "output_type": "display_data"
    }
   ],
   "source": [
    "kernel1 = np.array([\n",
    "    [1,0,-1],\n",
    "    [1,0,-1],\n",
    "    [1,0,-1]\n",
    "])\n",
    "filename = 'cuaso.jpg'\n",
    "@interact(threshold1 =(0, 500,5), threshold2 =(0, 500,5), apertureSize=(1, 16,2),\n",
    "        rho = (1, 50,1), theta = (0, 180,15),hreshold=(0, 500,20))\n",
    "def g(threshold1=100 , threshold2=390 , apertureSize=3,rho = 10, theta = 45,threshold=200):\n",
    "    img = cv.cvtColor(cv.imread(filename), cv2.COLOR_BGR2RGB)\n",
    "    gray = cv2.cvtColor(img, cv2.COLOR_BGR2GRAY)\n",
    "    gray=cv.filter2D(src=gray,ddepth=-1,kernel=kernel1)\n",
    "    # gray = cv2.Laplacian(gray, cv2.CV_64F)\n",
    "    \n",
    "    edges = cv2.Canny(gray, threshold1, threshold2, apertureSize=apertureSize)\n",
    "    edges=cv.filter2D(src=edges,ddepth=-1,kernel=kernel1)\n",
    "    \n",
    "\n",
    "    # This returns an array of r and theta values\n",
    "    lines = cv2.HoughLines(edges, rho=rho ,theta =  (np.pi)*theta/180, threshold=threshold)\n",
    "    for r_theta in lines:\n",
    "        arr = np.array(r_theta[0], dtype=np.float64)\n",
    "        r, theta = arr\n",
    "        a = np.cos(theta)\n",
    "        b = np.sin(theta)\n",
    "        x0 = a*r\n",
    "        y0 = b*r\n",
    "        x1 = int(x0 + 1000*(-b))\n",
    "        y1 = int(y0 + 1000*(a))\n",
    "        x2 = int(x0 - 1000*(-b))\n",
    "        y2 = int(y0 - 1000*(a))\n",
    "        cv2.line(img, (x1, y1), (x2, y2), (0, 0, 255), 2)\n",
    "        cv2.drawMarker(img, (x1, y1), (0, 0, 255), cv2.MARKER_TILTED_CROSS, markerSize=10, thickness=1)\n",
    "    print(lines.shape[0])\n",
    "    plt.figure(figsize=(15,10))\n",
    "    plt.subplot(121),plt.imshow(img,cmap = 'gray')\n",
    "    plt.title('Original Image'), plt.axis('off')\n",
    "    plt.subplot(122),plt.imshow(edges,cmap = 'gray')\n",
    "    plt.title('HoughLines'), plt.axis('off')"
   ]
  },
  {
   "cell_type": "code",
   "execution_count": null,
   "metadata": {},
   "outputs": [],
   "source": []
  }
 ],
 "metadata": {
  "kernelspec": {
   "display_name": "Python 3",
   "language": "python",
   "name": "python3"
  },
  "language_info": {
   "codemirror_mode": {
    "name": "ipython",
    "version": 3
   },
   "file_extension": ".py",
   "mimetype": "text/x-python",
   "name": "python",
   "nbconvert_exporter": "python",
   "pygments_lexer": "ipython3",
   "version": "3.10.5"
  },
  "orig_nbformat": 4
 },
 "nbformat": 4,
 "nbformat_minor": 2
}
